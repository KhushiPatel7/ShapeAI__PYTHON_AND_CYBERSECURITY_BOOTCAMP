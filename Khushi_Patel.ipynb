{
  "nbformat": 4,
  "nbformat_minor": 0,
  "metadata": {
    "colab": {
      "name": "Khushi_Patel.ipynb",
      "provenance": []
    },
    "kernelspec": {
      "name": "python3",
      "display_name": "Python 3"
    },
    "language_info": {
      "name": "python"
    }
  },
  "cells": [
    {
      "cell_type": "code",
      "metadata": {
        "colab": {
          "base_uri": "https://localhost:8080/"
        },
        "id": "-Owx7d5I1ycT",
        "outputId": "b0d8f8ff-5d15-472a-ba09-071a93d5b83f"
      },
      "source": [
        "import requests\n",
        "from datetime import datetime\n",
        "\n",
        "api_key = 'f691e7bae9927dd8cd49a985b2d7d3a5'\n",
        "location = input(\"Enter the city name: \")\n",
        "\n",
        "\n",
        "complete_api_link = \"https://api.openweathermap.org/data/2.5/weather?q=\"+location+\"&appid=\"+api_key\n",
        "api_link = requests.get(complete_api_link)\n",
        "api_data = api_link.json()\n",
        "\n",
        "#create variables to store and display data\n",
        "temp_city = ((api_data['main']['temp']) - 273.15)\n",
        "weather_desc = (api_data['weather'][0]['description'])\n",
        "hmdt = api_data['main']['humidity']\n",
        "wind_spd = api_data['wind']['speed']\n",
        "date_time = datetime.now().strftime(\"%d %b %Y | %I:%M:%S %p\")\n",
        "\n",
        "print (\"-------------------------------------------------------------\")\n",
        "print (\"Weather Stats for - {}  || {}\".format(location.upper(), date_time))\n",
        "print (\"-------------------------------------------------------------\")\n",
        "\n",
        "print (\"Current temperature is: {:.2f} deg C\".format(temp_city))\n",
        "print (\"Current weather desc  :\",weather_desc)\n",
        "print (\"Current Humidity      :\",hmdt, '%')\n",
        "print (\"Current wind speed    :\",wind_spd ,'kmph')\n",
        "\n",
        "f = open(\"/boot/submitfile.txt\", \"a\")\n",
        "f.write(\"\\nWeather Stats for - {}  || {}\".format(location.upper(), date_time))\n",
        "f.write(\"\\nCurrent temperature is: {:.2f} deg C\".format(temp_city))\n",
        "f.write(\"\\nCurrent weather desc  : {} \".format(weather_desc))\n",
        "f.write(\"\\nCurrent Humidity      :{}%\".format(hmdt))\n",
        "f.write(\"\\nCurrent wind speed    :{}kmph\".format(wind_spd))\n",
        "f.close()"
      ],
      "execution_count": 3,
      "outputs": [
        {
          "output_type": "stream",
          "text": [
            "Enter the city name: Ahmedabad\n",
            "-------------------------------------------------------------\n",
            "Weather Stats for - AHMEDABAD  || 23 Jun 2021 | 03:13:58 AM\n",
            "-------------------------------------------------------------\n",
            "Current temperature is: 28.02 deg C\n",
            "Current weather desc  : mist\n",
            "Current Humidity      : 89 %\n",
            "Current wind speed    : 2.57 kmph\n"
          ],
          "name": "stdout"
        }
      ]
    }
  ]
}